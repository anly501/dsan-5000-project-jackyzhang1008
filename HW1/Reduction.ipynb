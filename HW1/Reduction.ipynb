{
  "cells": [
    {
      "cell_type": "raw",
      "metadata": {},
      "source": [
        "---\n",
        "title: \"Reduction\"\n",
        "bibliography: references.bib\n",
        "---"
      ],
      "id": "bf8e10c9"
    },
    {
      "cell_type": "markdown",
      "metadata": {},
      "source": [
        "# Dimensionality Reduction with PCA\n"
      ],
      "id": "a763d5e9"
    },
    {
      "cell_type": "code",
      "metadata": {},
      "source": [
        "import torch \n",
        "import pandas as pd\n",
        "import matplotlib.pyplot as plt\n",
        "import seaborn as sns\n",
        "from sklearn.decomposition import PCA\n",
        "from sklearn.manifold import TSNE\n",
        "from sklearn.preprocessing import OneHotEncoder, StandardScaler\n",
        "import warnings\n",
        "warnings.filterwarnings('ignore')"
      ],
      "id": "f2bcd0a0",
      "execution_count": null,
      "outputs": []
    },
    {
      "cell_type": "code",
      "metadata": {},
      "source": [
        "data = pd.read_csv('../data/Cleaned/merged_data.csv')\n",
        "\n",
        "# One-hot encoding the 'LOCATION_NAME' column\n",
        "encoder = OneHotEncoder(sparse=False)\n",
        "location_encoded = encoder.fit_transform(data[['LOCATION_NAME']])\n",
        "\n",
        "# Create a DataFrame from the encoded columns\n",
        "location_encoded_df = pd.DataFrame(location_encoded, columns=encoder.get_feature_names_out(['LOCATION_NAME']))\n",
        "\n",
        "# Standard scaling\n",
        "scaler = StandardScaler()\n",
        "dose_scaled = scaler.fit_transform(data[['DOSE EQUIVALENT RATE (nSv/h)']])\n",
        "\n",
        "# Create a DataFrame from the scaled column\n",
        "dose_scaled_df = pd.DataFrame(dose_scaled, columns=['DOSE EQUIVALENT RATE (nSv/h)'])\n",
        "preprocessed_data = pd.concat([location_encoded_df, dose_scaled_df], axis=1)\n",
        "preprocessed_data.head()\n",
        "\n",
        "# Applying PCA\n",
        "pca = PCA()\n",
        "pca.fit(preprocessed_data)\n",
        "\n",
        "# Plotting the Cumulative Summation of the Explained Variance\n",
        "plt.figure(figsize=(8, 6))\n",
        "plt.plot(pca.explained_variance_ratio_.cumsum(), marker='o', linestyle='--')\n",
        "plt.title('Cumulative Explained Variance by PCA Components')\n",
        "plt.xlabel('Number of Components')\n",
        "plt.ylabel('Cumulative Explained Variance')\n",
        "plt.grid(True)\n",
        "plt.show()"
      ],
      "id": "e1024d52",
      "execution_count": null,
      "outputs": []
    },
    {
      "cell_type": "markdown",
      "metadata": {},
      "source": [
        "# Dimensionality Reduction with t-SNE\n"
      ],
      "id": "fb07bf0b"
    },
    {
      "cell_type": "code",
      "metadata": {},
      "source": [
        "# One-hot encode the \"LOCATION_NAME\" column\n",
        "encoder = OneHotEncoder(sparse=False)\n",
        "location_encoded = encoder.fit_transform(data[['LOCATION_NAME']])\n",
        "\n",
        "# Combine the one-hot encoded location data with the dose equivalent rate data\n",
        "combined_data = pd.concat([pd.DataFrame(location_encoded), data['DOSE EQUIVALENT RATE (nSv/h)']], axis=1)\n",
        "\n",
        "# Device configuration - for Apple GPU\n",
        "device = torch.device('mps')\n",
        "\n",
        "# Convert the combined data to a PyTorch tensor\n",
        "data_tensor = torch.tensor(combined_data.values, dtype=torch.float32).to(device)\n",
        "\n",
        "\n",
        "# Define a function to run t-SNE with different perplexity values and visualize the results\n",
        "def run_tsne_and_visualize(data, perplexities, n_iter=1000):\n",
        "    for perplexity in perplexities:\n",
        "        # Apply t-SNE\n",
        "        tsne = TSNE(n_components=2, perplexity=perplexity, n_iter=n_iter, random_state=42)\n",
        "        tsne_results = tsne.fit_transform(data)\n",
        "\n",
        "        # Plot the results\n",
        "        plt.figure(figsize=(8, 6))\n",
        "        sns.scatterplot(x=tsne_results[:, 0], y=tsne_results[:, 1], alpha=0.5)\n",
        "        plt.title(f't-SNE with Perplexity = {perplexity}')\n",
        "        plt.xlabel('t-SNE Dimension 1')\n",
        "        plt.ylabel('t-SNE Dimension 2')\n",
        "        plt.show()\n",
        "\n",
        "# List of perplexity values to explore\n",
        "perplexities = [1, 5, 10]\n",
        "\n",
        "# Run and visualize t-SNE for each perplexity\n",
        "run_tsne_and_visualize(data_tensor.cpu().numpy(), perplexities)"
      ],
      "id": "b31521c5",
      "execution_count": null,
      "outputs": []
    },
    {
      "cell_type": "markdown",
      "metadata": {},
      "source": [
        "# Reference\n",
        "\n",
        "[@usepa2021]"
      ],
      "id": "2e13612e"
    }
  ],
  "metadata": {
    "kernelspec": {
      "name": "python3",
      "language": "python",
      "display_name": "Python 3 (ipykernel)"
    }
  },
  "nbformat": 4,
  "nbformat_minor": 5
}